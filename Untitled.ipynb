{
 "cells": [
  {
   "cell_type": "markdown",
   "id": "b33c1c46",
   "metadata": {},
   "source": [
    "##Code set Week 3 "
   ]
  },
  {
   "cell_type": "markdown",
   "id": "11cdbf98",
   "metadata": {},
   "source": [
    "## Question 4 - (Nested if-else statements with letter grade)\n",
    "#In this we are asked to revise the nested if-else statement having to do with what letter grade you receive. "
   ]
  },
  {
   "cell_type": "code",
   "execution_count": 3,
   "id": "22f11b5e",
   "metadata": {},
   "outputs": [
    {
     "name": "stdout",
     "output_type": "stream",
     "text": [
      "Your grade is a D.\n"
     ]
    }
   ],
   "source": [
    "##They asked to revise their if-else statement to make it work. The reason theirs did not work was because the if and else were all lined up together which doesn't show each being sperated, it clumps it all together so it doesn't allow to have different outcomes. I had to type in what each score would be starting from A_score, then would use symbols like >= to represent greater than or equal to, and if it was true it would print the statement below, if it was not true then it would go to the else statement but that leads to a new line of \"if\" which shows the next printed statement of which letter score it is. At the end of the coding I typed in score= and entered a random number of 69 which shows final answer of the grade being a D because thats what the number falls under. \n",
    "A_score=90\n",
    "B_score=80\n",
    "C_score=70\n",
    "D_score=60\n",
    "score=69\n",
    "if score >=A_score:\n",
    "    print('Your grade is an A.')\n",
    "else: \n",
    "    if score >=B_score:\n",
    "        print('Your grade is a B.')\n",
    "    else: \n",
    "        if score >=C_score:\n",
    "            print('Your grade is a C.')\n",
    "        else:\n",
    "            if score >=D_score:\n",
    "                print('Your grade is a D.')\n",
    "            else: \n",
    "                print('Your grade is an F.')"
   ]
  },
  {
   "cell_type": "markdown",
   "id": "70844478",
   "metadata": {},
   "source": [
    "## Question 5 -(Amount1 and amount2)"
   ]
  },
  {
   "cell_type": "code",
   "execution_count": 7,
   "id": "6f9fadb9",
   "metadata": {},
   "outputs": [
    {
     "name": "stdout",
     "output_type": "stream",
     "text": [
      "83\n"
     ]
    }
   ],
   "source": [
    "amount1=83\n",
    "amount2=36\n",
    "if amount1 > 10 and amount2 < 100:\n",
    "    if amount1 > amount2:\n",
    "        print(amount1)\n",
    "    else:\n",
    "        print(amount2)"
   ]
  },
  {
   "cell_type": "code",
   "execution_count": null,
   "id": "9a35f79f",
   "metadata": {},
   "outputs": [],
   "source": []
  }
 ],
 "metadata": {
  "kernelspec": {
   "display_name": "Python 3 (ipykernel)",
   "language": "python",
   "name": "python3"
  },
  "language_info": {
   "codemirror_mode": {
    "name": "ipython",
    "version": 3
   },
   "file_extension": ".py",
   "mimetype": "text/x-python",
   "name": "python",
   "nbconvert_exporter": "python",
   "pygments_lexer": "ipython3",
   "version": "3.10.9"
  }
 },
 "nbformat": 4,
 "nbformat_minor": 5
}
