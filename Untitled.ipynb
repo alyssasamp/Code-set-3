{
 "cells": [
  {
   "cell_type": "markdown",
   "id": "b33c1c46",
   "metadata": {},
   "source": [
    "##Code set Week 3 "
   ]
  },
  {
   "cell_type": "markdown",
   "id": "11cdbf98",
   "metadata": {},
   "source": [
    "## Question 4 - (Nested if-else statements with letter grade)"
   ]
  },
  {
   "cell_type": "code",
   "execution_count": 1,
   "id": "22f11b5e",
   "metadata": {},
   "outputs": [
    {
     "ename": "NameError",
     "evalue": "name 'score' is not defined",
     "output_type": "error",
     "traceback": [
      "\u001b[0;31m---------------------------------------------------------------------------\u001b[0m",
      "\u001b[0;31mNameError\u001b[0m                                 Traceback (most recent call last)",
      "Cell \u001b[0;32mIn[1], line 1\u001b[0m\n\u001b[0;32m----> 1\u001b[0m \u001b[38;5;28;01mif\u001b[39;00m \u001b[43mscore\u001b[49m \u001b[38;5;241m>\u001b[39m\u001b[38;5;241m=\u001b[39mA_score:\n\u001b[1;32m      2\u001b[0m     \u001b[38;5;28mprint\u001b[39m(\u001b[38;5;124m'\u001b[39m\u001b[38;5;124mYour grade is an A.\u001b[39m\u001b[38;5;124m'\u001b[39m)\n\u001b[1;32m      3\u001b[0m \u001b[38;5;28;01melse\u001b[39;00m: \n",
      "\u001b[0;31mNameError\u001b[0m: name 'score' is not defined"
     ]
    }
   ],
   "source": [
    "if score >=A_score:\n",
    "    print('Your grade is an A.')\n",
    "else: \n",
    "    if score >=B_score:\n",
    "        print('Your grade is a B.')\n",
    "    else: \n",
    "        if score >=C_score:\n",
    "            print('Your grade is a C.')\n",
    "        else:\n",
    "            if score >=D_score:\n",
    "                print('Your grade is a D.')\n",
    "            else: \n",
    "                print('Your grade is an F.')"
   ]
  },
  {
   "cell_type": "code",
   "execution_count": null,
   "id": "c17ec6cf",
   "metadata": {},
   "outputs": [],
   "source": []
  }
 ],
 "metadata": {
  "kernelspec": {
   "display_name": "Python 3 (ipykernel)",
   "language": "python",
   "name": "python3"
  },
  "language_info": {
   "codemirror_mode": {
    "name": "ipython",
    "version": 3
   },
   "file_extension": ".py",
   "mimetype": "text/x-python",
   "name": "python",
   "nbconvert_exporter": "python",
   "pygments_lexer": "ipython3",
   "version": "3.10.9"
  }
 },
 "nbformat": 4,
 "nbformat_minor": 5
}
