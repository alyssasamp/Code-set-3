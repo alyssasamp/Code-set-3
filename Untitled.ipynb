{
 "cells": [
  {
   "cell_type": "markdown",
   "id": "b33c1c46",
   "metadata": {},
   "source": [
    "##Code set Week 3 "
   ]
  },
  {
   "cell_type": "markdown",
   "id": "11cdbf98",
   "metadata": {},
   "source": [
    "## Question 4 - (Nested if-else statements with letter grade)\n",
    "#In this we are asked to revise the nested if-else statement having to do with what letter grade you receive. "
   ]
  },
  {
   "cell_type": "code",
   "execution_count": 3,
   "id": "22f11b5e",
   "metadata": {},
   "outputs": [
    {
     "name": "stdout",
     "output_type": "stream",
     "text": [
      "Your grade is a D.\n"
     ]
    }
   ],
   "source": [
    "##They asked to revise their if-else statement to make it work. The reason theirs did not work was because the if and else were all lined up together which doesn't show each being sperated, it clumps it all together so it doesn't allow to have different outcomes. I had to type in what each score would be starting from A_score, then would use symbols like >= to represent greater than or equal to, and if it was true it would print the statement below, if it was not true then it would go to the else statement but that leads to a new line of \"if\" which shows the next printed statement of which letter score it is. At the end of the coding I typed in score= and entered a random number of 69 which shows final answer of the grade being a D because thats what the number falls under. \n",
    "A_score=90\n",
    "B_score=80\n",
    "C_score=70\n",
    "D_score=60\n",
    "score=69\n",
    "if score >=A_score:\n",
    "    print('Your grade is an A.')\n",
    "else: \n",
    "    if score >=B_score:\n",
    "        print('Your grade is a B.')\n",
    "    else: \n",
    "        if score >=C_score:\n",
    "            print('Your grade is a C.')\n",
    "        else:\n",
    "            if score >=D_score:\n",
    "                print('Your grade is a D.')\n",
    "            else: \n",
    "                print('Your grade is an F.')"
   ]
  },
  {
   "cell_type": "markdown",
   "id": "94af1ea2",
   "metadata": {},
   "source": [
    "## Question 5 -(Amount1 and amount2)\n",
    "#This question asks to write nested structures to show whether if amount1 was greater than 10 and amount2 is less than 100, it should print out which answer is greater in the end. "
   ]
  },
  {
   "cell_type": "code",
   "execution_count": 7,
   "id": "085c984e",
   "metadata": {},
   "outputs": [
    {
     "name": "stdout",
     "output_type": "stream",
     "text": [
      "83\n"
     ]
    }
   ],
   "source": [
    "#I began using if-else statements and typed in what the question gave me (amount1>10 and amount2<100). Then I used an if-else statement so that I could type in \"amount1>amount2\" because the question is asking to display which one that has a bigger number. If that staement was true it would print out the if statement, if it was false it would go to the else statement. In order for this to actually work I had to label amount1 and amount2 as two random numbers I picked, and with the numbers I used it ended up being amount1 that was bigger. \n",
    "amount1=83\n",
    "amount2=36\n",
    "if amount1 > 10 and amount2 < 100:\n",
    "    if amount1 > amount2:\n",
    "        print(amount1)\n",
    "    else:\n",
    "        print(amount2)"
   ]
  },
  {
   "cell_type": "markdown",
   "id": "d422fb2f",
   "metadata": {},
   "source": [
    "## Programming Exercise Question 1 (Days of week)\n",
    "#This question has us ask the user to enter a number 1-7, and by doing so it should spit out the day of the week correlated to that specific number. If the number is not 1-7, it should display an error. "
   ]
  },
  {
   "cell_type": "code",
   "execution_count": 17,
   "id": "824240b0",
   "metadata": {},
   "outputs": [
    {
     "name": "stdout",
     "output_type": "stream",
     "text": [
      "Enter a number between 1 and 7: 4\n",
      "Today is Thursday\n"
     ]
    }
   ],
   "source": [
    "#To begin, we need to ask to enter a number between 1 and 7 so I used the input function to do so and that allows someone to simply enter in a number on the bottom part of the code. I added the \"number=\" just because that is what the code is representing. \n",
    "number = int(input('Enter a number between 1 and 7: '))\n",
    "#In order for this code to work I needed to define \"day\" which is the same as number. This is why the input function needed to be represented by a variable name; so that these days and numbers will correspond. \n",
    "day=number\n",
    "#Once they're able to type a number in and do, each number needs to represent a different response(or day) so I used the if-elif-else function where each number equals (==) an elif print function writing that will be printed if it corresponds to it. The if-elif is lined up and the print is not so that the coding can actually work. At the end, the else statement is used so that if the number doesn't correspond with any then it will result to the error I had typed in with the print function; reminding them to type in a number 1 through 7. \n",
    "if day ==1:\n",
    "    print('Today is Monday')\n",
    "elif day ==2:\n",
    "    print('Today is Tuesday')\n",
    "elif day ==3:\n",
    "    print('Today is Wednesday')\n",
    "elif day ==4:\n",
    "    print('Today is Thursday')\n",
    "elif day ==5:\n",
    "    print('Today is Friday')\n",
    "elif day ==6:\n",
    "    print('Today is Saturday')\n",
    "elif day ==7:\n",
    "    print('Today is Sunday')\n",
    "else:\n",
    "    print('Error: Enter a number 1-7')"
   ]
  },
  {
   "cell_type": "markdown",
   "id": "9a6140df",
   "metadata": {},
   "source": [
    "## Question 5 Programming Exercise (Mass and Weight)\n",
    "#This problem it gives a formula of weight=mass x 9.8. It then wants me to write a program asking for an objects mass, then calculates its weight. If it weighs more than 500 newtons, a message should display it is too heavy, if its less than 100 newtons, I need to display a message that it is too light."
   ]
  },
  {
   "cell_type": "code",
   "execution_count": 20,
   "id": "e2fecc33",
   "metadata": {},
   "outputs": [
    {
     "name": "stdout",
     "output_type": "stream",
     "text": [
      "Enter Objects Mass124\n",
      "It is too heavy\n"
     ]
    }
   ],
   "source": [
    "#Used input to have them enter the objects mass in order to begin the coding problem. \n",
    "mass=int(input('Enter Objects Mass'))\n",
    "#Have to use thee variables of mass and weight so that the formula will work. This formula will convert the mass that was just entered into weight in newtons so that it can finish off the rest of the problem of if its too heavy or too light. \n",
    "weight = mass * 9.8\n",
    "#In this piece I used the \"if\" to represent if the weight is in fact over 500, it will print out it is too heavy and if the weight is lower than 100 it will print it is too light, which is what the problem wants the coding to do. \n",
    "if weight > 500:\n",
    "    print('It is too heavy')\n",
    "if weight < 100:\n",
    "    print('It is too light')\n"
   ]
  },
  {
   "cell_type": "markdown",
   "id": "4330c93f",
   "metadata": {},
   "source": [
    "## Question 16 Wifi Diagnostic Tree \n",
    "#This problem will follow a flowchart showing how to fix the wifi and how it keeps on going if the steps before are not working. I will follow along witht he flowchart and code it so it works. "
   ]
  },
  {
   "cell_type": "code",
   "execution_count": null,
   "id": "29fa550d",
   "metadata": {},
   "outputs": [
    {
     "name": "stdout",
     "output_type": "stream",
     "text": [
      "Reboot the computer and try to reconnect\n"
     ]
    }
   ],
   "source": [
    "#Begin by printing first message of flowchart \n",
    "print('Reboot the computer and try to reconnect')\n",
    "answer = input('Did that fix the problem?')\n",
    "#We now have to ask if the answer is yes or no in order to go on, so I used same variable \"answer\" to do so. \n",
    "if answer == No:\n",
    "    print('Reboot the router and try to reconnect')\n",
    "    answer = input('Did that fix the problem')\n",
    "          #Need to ask if the problem is fixed everytime you print them something to do (to check up)\n",
    "    if answer == No:\n",
    "          print('Make sure the cables between the router and modem are plugged in firmly') #continue checking up\n",
    "          answer = input('Did that fix the problem?')\n",
    "          if answer == No:\n",
    "              print('Move the router to a new location') #keep printing the flowchart after they answer no\n",
    "              answer = input('Did that fix the problem') #keep checking in to ask new questions after a no\n",
    "              if answer == No:\n",
    "                  print('Get a new router')\n",
    "       #You continue this method until the end of the flowchart. Once that is finished, I am able to enter answers myself into the code (which will all be \"no's\" to make sure it works and to show the final product)   "
   ]
  },
  {
   "cell_type": "code",
   "execution_count": null,
   "id": "3621e917",
   "metadata": {},
   "outputs": [],
   "source": []
  }
 ],
 "metadata": {
  "kernelspec": {
   "display_name": "Python 3 (ipykernel)",
   "language": "python",
   "name": "python3"
  },
  "language_info": {
   "codemirror_mode": {
    "name": "ipython",
    "version": 3
   },
   "file_extension": ".py",
   "mimetype": "text/x-python",
   "name": "python",
   "nbconvert_exporter": "python",
   "pygments_lexer": "ipython3",
   "version": "3.10.9"
  }
 },
 "nbformat": 4,
 "nbformat_minor": 5
}
